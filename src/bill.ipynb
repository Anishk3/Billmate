{
 "cells": [
  {
   "cell_type": "code",
   "execution_count": null,
   "metadata": {},
   "outputs": [],
   "source": [
    "\n",
    "import requests\n",
    "import json\n",
    "\n",
    "\n",
    "dat = None\n",
    "receiptOcrEndpoint = 'https://ocr.asprise.com/api/v1/receipt' # Receipt OCR API endpoint\n",
    "imageFile = \"bill2.jpg\" # // Modify this to use your own file if necessary\n",
    "r = requests.post(receiptOcrEndpoint, data = { \\\n",
    "  'client_id': 'TEST',        # Use 'TEST' for testing purpose \\\n",
    "  'recognizer': 'auto',       # can be 'US', 'CA', 'JP', 'SG' or 'auto' \\\n",
    "  'ref_no': 'ocr_python_123', # optional caller provided ref code \\\n",
    "  }, \\\n",
    "  files = {\"file\": open(imageFile, \"rb\")})\n",
    "\n",
    "if r.status_code==200:\n",
    "    print(r)\n",
    "    print(r.text) # result in JSON\n",
    "\n",
    "# Open a file for writing\n",
    "with open('output2.json', 'w') as f:\n",
    "    # Write Python output to JSON file\n",
    "    data = json.loads(r.text)\n",
    "    json.dump(data,f)\n",
    "\n",
    "with open('output2.json', 'r') as f:\n",
    "    dat = json.load(f)\n",
    "    print(dat)\n",
    "    print(type(dat))\n",
    "\n",
    "for i in dat.keys():\n",
    "    print(i)"
   ]
  },
  {
   "cell_type": "code",
   "execution_count": null,
   "metadata": {},
   "outputs": [],
   "source": [
    "from flask import Flask,request\n",
    "from flask import render_template\n",
    "import sqlite3\n",
    "\n",
    "# create the table if it doesn't exist\n",
    "\n",
    "\n",
    "app = Flask(_name_)\n",
    "@app.route('/')\n",
    "def hello_world():\n",
    "    return render_template('main.html',init_dict={\"Title\":\"Pharmacy Management System\"})"
   ]
  }
 ],
 "metadata": {
  "language_info": {
   "name": "python"
  },
  "orig_nbformat": 4
 },
 "nbformat": 4,
 "nbformat_minor": 2
}
